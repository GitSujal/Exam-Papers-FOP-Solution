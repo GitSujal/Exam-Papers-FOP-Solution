{
 "cells": [
  {
   "cell_type": "code",
   "execution_count": null,
   "metadata": {},
   "outputs": [],
   "source": [
    "import random\n",
    "biscuits = []\n",
    "biscuits.extend(['Monte Carlo']*7)\n",
    "biscuits.extend(['Shortbread Cream']*2)\n",
    "biscuits.extend(['Delta Cream']*3)\n",
    "biscuits.extend(['Orange Slice']*5)\n",
    "biscuits.extend(['Kingston']*9)\n",
    "print('\\nASSORTED CREAMS\\n')\n",
    "more = input('\\nWould you like a biscuit (Y/N)... ')\n",
    "while more.upper() != 'N' and len(biscuits)>=0:\n",
    "    number = input(\"How many biscuits would you like: \")\n",
    "    if number.isnumeric():\n",
    "        number = int(number)\n",
    "        if len(biscuits)>=number:\n",
    "            for i in range(number): \n",
    "                choice = random.randint(0,len(biscuits)-1)\n",
    "                print('Your biscuit is : ', biscuits[choice])\n",
    "                del biscuits[choice]\n",
    "            print(\"Remaining Biscuits: \",biscuits,\"\\n\")\n",
    "        else: \n",
    "            print(\"Not enough biscuits.\")\n",
    "    else:\n",
    "        print(\"Invalid number of biscuit provided\")\n",
    "     \n",
    "    more = input('\\nWould you like another biscuit (Y/N)...')\n",
    "\n",
    "print(\"Exiting program\") "
   ]
  },
  {
   "cell_type": "code",
   "execution_count": 1,
   "metadata": {},
   "outputs": [
    {
     "name": "stdout",
     "output_type": "stream",
     "text": [
      "['sujal', 'sujal', 'sujal', 'sujal', 'aslfk', 'sdlf', 'm', 'zxfs', 'fasfdmaslfd', 'jmasl', 'daslkf', 'vmzkfx', 'vlwvsdfkdadsldvv', 'czlzfmcskzdkvmbkvzkjdmbvtkbsvjdtmlbd', 'lks', 'efmselibnmdtl']\n",
      "sujal :  4\n",
      "aslfk :  1\n",
      "sdlf :  1\n",
      "m :  1\n",
      "zxfs :  1\n",
      "fasfdmaslfd :  1\n",
      "jmasl :  1\n",
      "daslkf :  1\n",
      "vmzkfx :  1\n",
      "vlwvsdfkdadsldvv :  1\n",
      "czlzfmcskzdkvmbkvzkjdmbvtkbsvjdtmlbd :  1\n",
      "lks :  1\n",
      "efmselibnmdtl :  1\n",
      "Total unique words =  13\n",
      "Total words = 16\n"
     ]
    }
   ],
   "source": [
    "punctuation = '~!@#$%^&*()_+{}|:\"<>?`=[]\\\\;\\',./'\n",
    "#Read from the file: MeaningOfLife.txt.\n",
    "filename = 'grimm.txt'\n",
    "book = open(filename).read()\n",
    "bookNoPunct = book.translate(str.maketrans('','',punctuation))\n",
    "# Ignore case (upper/lower) when counting words.\n",
    "words = bookNoPunct.lower().split()\n",
    "print(words)\n",
    "wordfreq = {}\n",
    "for word in words:\n",
    "    # Ignore numbers when counting words.\n",
    "    if not word.isnumeric():\n",
    "        if word not in wordfreq:\n",
    "            wordfreq[word] = 0\n",
    "        wordfreq[word] += 1\n",
    "\n",
    "total =0\n",
    "for keys in wordfreq.keys():\n",
    "    print(keys, \": \",wordfreq[keys])\n",
    "    total+=wordfreq[keys]\n",
    "\n",
    "# for values in wordfreq.values():\n",
    "#     total+= values\n",
    "    \n",
    "print(\"Total unique words = \",len(wordfreq))\n",
    "print(\"Total words =\",total)"
   ]
  },
  {
   "cell_type": "code",
   "execution_count": 4,
   "metadata": {
    "scrolled": true
   },
   "outputs": [
    {
     "name": "stdout",
     "output_type": "stream",
     "text": [
      "Australia100003000000300.0\n"
     ]
    }
   ],
   "source": [
    "class Region:\n",
    "    def __init__(self,name,area,pop):\n",
    "        self.name = name\n",
    "        self.area = area\n",
    "        self.pop = pop\n",
    "    def popDensity(self):\n",
    "        return float(self.pop/self.area)\n",
    "    \n",
    "    def __str__(self):\n",
    "        return self.name + str(self.area) + str(self.pop) + str(self.popDensity())\n",
    "    \n",
    "class State (Region):\n",
    "    def __init__(self, name, area, pop, popsrc, locations):\n",
    "        super().__init__(name,area,pop)\n",
    "        \n",
    "class Country (Region):\n",
    "    def __init__(self, name, lang, area, pop, popsrc, states):\n",
    "        super().__init__(name,area,pop)\n",
    "        self.lang = lang\n",
    "\n",
    "new_country = Country(name=\"Australia\",lang=\"English\",pop=3000000,area=10000,states=7,popsrc=\"Dont know\")\n",
    "print(new_country)"
   ]
  },
  {
   "cell_type": "code",
   "execution_count": 12,
   "metadata": {},
   "outputs": [
    {
     "name": "stdout",
     "output_type": "stream",
     "text": [
      "+61 8 92661000 found +61 8 92661000\n",
      "+61 8 9266 1000 found +61 8 9266 1000\n",
      "(08) 9266 1000 found (08) 9266 1000\n",
      "(08) 92661000 found (08) 92661000\n",
      "08 9266 1000 found 08 9266 1000\n",
      "08 92661000 found 08 92661000\n",
      "9266 1000 found 9266 1000\n",
      "92661000 found 92661000\n",
      "0892661000 found 0892661000\n"
     ]
    }
   ],
   "source": [
    "import re\n",
    "phoneRegex = re.compile(r'''(\n",
    "(\\+\\d{2})?\n",
    "(\\s)?\n",
    "(\\d{1,2} | \\(\\d{2}\\))?\n",
    "(\\s)?\n",
    "(\\d{4}\\s?\\d{4})\n",
    ")''', re.VERBOSE)\n",
    "\n",
    "fileobj = open('phone.txt')\n",
    "\n",
    "data = fileobj.readlines()\n",
    "\n",
    "for number in data:\n",
    "    number = number.strip()\n",
    "    mo = phoneRegex.search(number)\n",
    "    if mo:\n",
    "        print(number + ' found ' + mo.group())"
   ]
  },
  {
   "cell_type": "code",
   "execution_count": null,
   "metadata": {},
   "outputs": [],
   "source": []
  }
 ],
 "metadata": {
  "kernelspec": {
   "display_name": "Python 3",
   "language": "python",
   "name": "python3"
  },
  "language_info": {
   "codemirror_mode": {
    "name": "ipython",
    "version": 3
   },
   "file_extension": ".py",
   "mimetype": "text/x-python",
   "name": "python",
   "nbconvert_exporter": "python",
   "pygments_lexer": "ipython3",
   "version": "3.6.7"
  }
 },
 "nbformat": 4,
 "nbformat_minor": 2
}
